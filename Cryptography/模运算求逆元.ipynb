{
 "cells": [
  {
   "cell_type": "markdown",
   "metadata": {},
   "source": [
    "#### 实验五要求\n",
    "1. 编程生成一个约30bit左右的素数\n",
    "2. 编程实现模幂运算（模数采用（1）中生成的素数）\n",
    "3. 编程实现求逆运算\n",
    "4. 大整数四则运算"
   ]
  },
  {
   "cell_type": "markdown",
   "metadata": {},
   "source": [
    "#### 生成素数"
   ]
  },
  {
   "cell_type": "code",
   "execution_count": 1,
   "metadata": {},
   "outputs": [
    {
     "name": "stdout",
     "output_type": "stream",
     "text": [
      "32771\n"
     ]
    }
   ],
   "source": [
    "#埃拉托斯特尼筛法：要得到自然数n以内的全部素数，必须把不大于  的所有素数的倍数剔除，剩下的就是素数\n",
    "#30bit 30位二进制 \n",
    "'''\n",
    "给出要筛数值的范围n，找出以内的素数。先用2去筛，即把2留下，把2的倍数剔除掉；再用下一个质数，也就是3筛，把3留下，把3的\n",
    "倍数剔除掉；接下去用下一个质数5筛，把5留下，把5的倍数剔除掉；不断重复下去\n",
    "'''\n",
    "# 生成一个奇数生成器。\n",
    "def odd_iter():\n",
    "    n = 1\n",
    "    while True:\n",
    "        n = n + 2\n",
    "        yield n\n",
    "\n",
    "# 过滤掉n的倍数的数。\n",
    "def not_divisible(n):\n",
    "    return lambda x: x % n > 0\n",
    "\n",
    "# 获取当前序列的第一个元素，然后删除后面序列该元素倍数的数，然后构造新序列。\n",
    "def primes():\n",
    "    yield 2\n",
    "    it = odd_iter()\n",
    "    while True:\n",
    "        n = next(it)\n",
    "        yield n\n",
    "        it = filter(not_divisible(n), it)\n",
    "\n",
    "# 获取 start 到 stop 之间的素数。\n",
    "start, stop =pow(2,15),pow(2,16)\n",
    "for n in primes():\n",
    "    if n > start and n < stop:\n",
    "        print(n)\n",
    "        break"
   ]
  },
  {
   "cell_type": "markdown",
   "metadata": {},
   "source": [
    "#### 模幂运算"
   ]
  },
  {
   "cell_type": "code",
   "execution_count": 3,
   "metadata": {},
   "outputs": [
    {
     "name": "stdout",
     "output_type": "stream",
     "text": [
      "3^27 mod n= 9014\n"
     ]
    }
   ],
   "source": [
    "print(\"3^27 mod n=\",pow(3,27)%n)"
   ]
  },
  {
   "cell_type": "markdown",
   "metadata": {},
   "source": [
    "#### 求逆运算：使用拓展欧几里得算法"
   ]
  },
  {
   "cell_type": "code",
   "execution_count": 11,
   "metadata": {},
   "outputs": [
    {
     "name": "stdin",
     "output_type": "stream",
     "text": [
      " 467 523\n"
     ]
    },
    {
     "name": "stdout",
     "output_type": "stream",
     "text": [
      "28 = 467 ^-1 mod 523\n"
     ]
    }
   ],
   "source": [
    "#欧几里得算法求最大公约数\n",
    "\n",
    "def get_gcd(a, b):\n",
    "    k = a // b\n",
    "    remainder = a % b\n",
    "    while remainder != 0:\n",
    "        a = b \n",
    "        b = remainder\n",
    "        k = a // b\n",
    "        remainder = a % b\n",
    "    return b\n",
    "\n",
    "#改进欧几里得算法求线性方程的x与y\n",
    "def get_(a, b):\n",
    "    if b == 0:\n",
    "        return 1, 0\n",
    "    else:\n",
    "        k = a // b\n",
    "        remainder = a % b\n",
    "        x1, y1 = get_(b, remainder)\n",
    "        x, y = y1, x1 - k * y1\n",
    "    return x, y\n",
    "    \n",
    "a, b = input().split()\n",
    "a, b = int(a), int(b)\n",
    " \n",
    "#将初始b的绝对值进行保存\n",
    "if b < 0:\n",
    "    m = abs(b)\n",
    "else:\n",
    "    m = b\n",
    "flag = get_gcd(a, b)\n",
    " \n",
    "#判断最大公约数是否为1，若不是则没有逆元\n",
    "if flag == 1:\n",
    "    x, y = get_(a, b)\n",
    "    x0 = x % m #对于Python '%'就是求模运算，因此不需要'+m'\n",
    "    \n",
    "    print(x0,\"=\",a,\"^-1\",\"mod\",b) #x0就是所求的逆元\n",
    "else:\n",
    "    print(\"Do not have 逆元!\")\n",
    " \n",
    " \n"
   ]
  },
  {
   "cell_type": "markdown",
   "metadata": {},
   "source": [
    "#### 大整数四则运算"
   ]
  },
  {
   "cell_type": "code",
   "execution_count": 3,
   "metadata": {},
   "outputs": [
    {
     "name": "stdout",
     "output_type": "stream",
     "text": [
      "加法a+b： 6338253001141147007483516026880\n",
      "减法c-a： 3802951800684688204490109616130\n",
      "除法c/789032123132： 64263573863408.92\n",
      "乘法a*243423： 308575312059356285600531984362242048\n"
     ]
    }
   ],
   "source": [
    "a=pow(2,100)\n",
    "b=4*a\n",
    "c=b+2\n",
    "\n",
    "print(\"加法a+b：\",a+b)\n",
    "print(\"减法c-a：\",c-a)\n",
    "print(\"除法c/789032123132：\",c/78903212132123132)\n",
    "print(\"乘法a*243423：\",a*243423)"
   ]
  },
  {
   "cell_type": "code",
   "execution_count": 6,
   "metadata": {},
   "outputs": [
    {
     "name": "stdout",
     "output_type": "stream",
     "text": [
      "189\n",
      "432\n"
     ]
    }
   ],
   "source": [
    "print(pow(2,100)%467)\n",
    "print(pow(132,29)*pow(29,431)%467)"
   ]
  },
  {
   "cell_type": "code",
   "execution_count": 8,
   "metadata": {},
   "outputs": [
    {
     "name": "stdout",
     "output_type": "stream",
     "text": [
      "15\n"
     ]
    }
   ],
   "source": [
    "print(-35*7%26)"
   ]
  },
  {
   "cell_type": "code",
   "execution_count": 10,
   "metadata": {},
   "outputs": [
    {
     "name": "stdout",
     "output_type": "stream",
     "text": [
      "7\n"
     ]
    }
   ],
   "source": [
    "print(-695%26)"
   ]
  },
  {
   "cell_type": "code",
   "execution_count": null,
   "metadata": {},
   "outputs": [],
   "source": []
  }
 ],
 "metadata": {
  "kernelspec": {
   "display_name": "Python (tensorflowenv)",
   "language": "python",
   "name": "tensorflowenv"
  },
  "language_info": {
   "codemirror_mode": {
    "name": "ipython",
    "version": 3
   },
   "file_extension": ".py",
   "mimetype": "text/x-python",
   "name": "python",
   "nbconvert_exporter": "python",
   "pygments_lexer": "ipython3",
   "version": "3.5.4"
  }
 },
 "nbformat": 4,
 "nbformat_minor": 2
}
