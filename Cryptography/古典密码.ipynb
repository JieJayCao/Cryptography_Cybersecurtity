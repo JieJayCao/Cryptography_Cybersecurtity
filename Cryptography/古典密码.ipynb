{
 "cells": [
  {
   "cell_type": "markdown",
   "metadata": {},
   "source": [
    "### 学号:03163124 姓名：caojie   \n"
   ]
  },
  {
   "cell_type": "markdown",
   "metadata": {},
   "source": [
    "#### 实验一\n",
    "#### 1 仿射密码\n",
    "* 参数选取：模数n=26+10=36，k2为学号后2位；k1为与学号后2位最近的素数。k1=23 k2=24 n=36"
   ]
  },
  {
   "cell_type": "code",
   "execution_count": 1,
   "metadata": {},
   "outputs": [
    {
     "name": "stdout",
     "output_type": "stream",
     "text": [
      "原文为：caojie03163124\n",
      "仿射密码加密后： 8ywp2ikh7eh7u4\n",
      "解密后得到原文： caojie03163124\n"
     ]
    }
   ],
   "source": [
    "#定义空间，与输入明文\n",
    "list1=['a','b','c','d','e','f','g','h','i','j','k','l','m','n','o','p','q','r','s','t','u','v','w','x','y','z','0','1','2','3','4','5','6','7','8','9']\n",
    "str=\"c a o j i e 0 3 1 6 3 1 2 4\"\n",
    "print(\"原文为：caojie03163124\")\n",
    "list2=str.split(\" \")\n",
    "for i in range(len(list2)):\n",
    "    list2[i]=list1.index(list2[i])\n",
    "ekey=list2.copy()\n",
    "#加密\n",
    "for j in range(len(list2)):\n",
    "    #密文对应序号\n",
    "    ekey[j]=(23*list2[j]+24)%36\n",
    "    #密文\n",
    "    ekey[j]=list1[ekey[j]]\n",
    "\n",
    "k1=ekey.copy()\n",
    "k1=\"\".join(k1)\n",
    "print(\"仿射密码加密后：\",k1)\n",
    "\n",
    "#笔算k^-1 mod 36\n",
    "k1_ni= 11\n",
    "dkey=ekey.copy()\n",
    "for k in range(len(dkey)):\n",
    "    #密文对应序号转换，与解密\n",
    "    dkey[k]=(11*(list1.index(ekey[k])-24))%36\n",
    "    #解密序号对应明文\n",
    "    dkey[k]=list1[dkey[k]]\n",
    "\n",
    "print(\"解密后得到原文：\",\"\".join(dkey))\n"
   ]
  },
  {
   "cell_type": "markdown",
   "metadata": {},
   "source": [
    "#### 2 置换密码\n",
    "* 参数选取：分组长度为7；置换关系随机选取；加解密：加密自己名字的全拼和学号（长度不足时后面全补填充长度），再解密。\n",
    "* m=7 zhihuan=(m(0),m(1),m(2),m(3),m(4),m(5),m(6))=(3,4,6,2,0,1,5)"
   ]
  },
  {
   "cell_type": "code",
   "execution_count": 2,
   "metadata": {
    "scrolled": true
   },
   "outputs": [
    {
     "name": "stdout",
     "output_type": "stream",
     "text": [
      "原文为： caojie03163124\n",
      "加密后： ji0ocae3146312\n",
      "解密后： caojie03163124\n"
     ]
    }
   ],
   "source": [
    "#定义置换\n",
    "list_zhihuan=[3,4,6,2,0,1,5]\n",
    "#定义明文\n",
    "list_minwen=[\"c a o j i e 0\",\"3 1 6 3 1 2 4\"]\n",
    "\n",
    "#明文切割\n",
    "list_MinW0=list_minwen[0].split(\" \")\n",
    "list_MinW1=list_minwen[1].split(\" \")\n",
    "print(\"原文为：\",\"\".join(list_MinW0+list_MinW1))\n",
    "#定义密文\n",
    "list_MiW0=list_MinW0.copy()\n",
    "list_MiW1=list_MinW1.copy()\n",
    "#密文切割\n",
    "for i in range(7):\n",
    "    list_MiW0[i]=list_MinW0[list_zhihuan[i]]\n",
    "    list_MiW1[i]=list_MinW1[list_zhihuan[i]]\n",
    "print(\"加密后：\",\"\".join(list_MiW0+list_MiW1))\n",
    "#解密置换\n",
    "list_Fzhihuan=[4,5,3,0,1,6,2]\n",
    "#k1,k2初始存储解密后输出的空间\n",
    "kout1=list_Fzhihuan.copy()\n",
    "kout2=list_Fzhihuan.copy()\n",
    "for j in range(7):\n",
    "    kout1[j]=list_MiW0[list_Fzhihuan[j]]\n",
    "    kout2[j]=list_MiW1[list_Fzhihuan[j]]\n",
    "print(\"解密后：\",\"\".join(kout1+kout2))"
   ]
  },
  {
   "cell_type": "markdown",
   "metadata": {},
   "source": [
    "#### 2 HILL密码"
   ]
  },
  {
   "cell_type": "code",
   "execution_count": 3,
   "metadata": {},
   "outputs": [
    {
     "name": "stdout",
     "output_type": "stream",
     "text": [
      "加密后: [ 9  8  8 24]\n",
      "解密还原: [ 7.  8. 11. 11.]\n"
     ]
    }
   ],
   "source": [
    "import numpy as np\n",
    "from numpy import*\n",
    "\n",
    "e=np.array([[8,6,9,5],[6,9,5,10],[5,8,4,9],[10,6,11,4]])\n",
    "x1=np.array([7,8,11,11])\n",
    "x2=np.dot(x1,e)\n",
    "for i in range(4):\n",
    "    x2[i]=x2[i]%26\n",
    "print(\"加密后:\",x2)\n",
    "#求逆矩阵\n",
    "e=mat(e)\n",
    "x3=mat(x2)*(e.I)\n",
    "x3=array(x3)\n",
    "\n",
    "for i in range(4):\n",
    "    x3[0][i]=x3[0][i]%26\n",
    "\n",
    "print(\"解密还原:\",x3[0])"
   ]
  },
  {
   "cell_type": "code",
   "execution_count": null,
   "metadata": {},
   "outputs": [],
   "source": []
  }
 ],
 "metadata": {
  "kernelspec": {
   "display_name": "Python 3",
   "language": "python",
   "name": "python3"
  },
  "language_info": {
   "codemirror_mode": {
    "name": "ipython",
    "version": 3
   },
   "file_extension": ".py",
   "mimetype": "text/x-python",
   "name": "python",
   "nbconvert_exporter": "python",
   "pygments_lexer": "ipython3",
   "version": "3.5.4"
  }
 },
 "nbformat": 4,
 "nbformat_minor": 2
}
