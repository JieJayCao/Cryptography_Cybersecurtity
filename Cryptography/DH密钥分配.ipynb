{
 "cells": [
  {
   "cell_type": "markdown",
   "metadata": {},
   "source": [
    "#### 实验八要求\n",
    "* 利用实验五的程序，实现DH密钥交换方案\n",
    "1. 参数选取：通信双方的私钥分别为自己学号的前4位和后4位；\n",
    "2. 编程实现共享密钥\n"
   ]
  },
  {
   "cell_type": "code",
   "execution_count": 1,
   "metadata": {},
   "outputs": [
    {
     "name": "stdout",
     "output_type": "stream",
     "text": [
      "DH密钥交换的共享密钥为： 6469791\n"
     ]
    }
   ],
   "source": [
    "#参数 xa=0316312，xb=3124321，p=32772311，g=3\n",
    "xa=316312\n",
    "xb=3124321\n",
    "p=32772311\n",
    "ya=pow(3,xa)%p\n",
    "yb=pow(3,xb)%p\n",
    "k1=pow(yb,xa)%p\n",
    "k2=pow(ya,xb)%p\n",
    "\n",
    "if k1==k2:\n",
    "    print(\"DH密钥交换的共享密钥为：\",k1)\n"
   ]
  },
  {
   "cell_type": "code",
   "execution_count": null,
   "metadata": {},
   "outputs": [],
   "source": []
  },
  {
   "cell_type": "code",
   "execution_count": null,
   "metadata": {},
   "outputs": [],
   "source": []
  }
 ],
 "metadata": {
  "kernelspec": {
   "display_name": "Python 3",
   "language": "python",
   "name": "python3"
  },
  "language_info": {
   "codemirror_mode": {
    "name": "ipython",
    "version": 3
   },
   "file_extension": ".py",
   "mimetype": "text/x-python",
   "name": "python",
   "nbconvert_exporter": "python",
   "pygments_lexer": "ipython3",
   "version": "3.5.4"
  }
 },
 "nbformat": 4,
 "nbformat_minor": 2
}
