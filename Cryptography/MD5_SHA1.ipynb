{
 "cells": [
  {
   "cell_type": "markdown",
   "metadata": {},
   "source": [
    "#### 实验四要求\n",
    "* 理解MD5、SHA-1算法的实现原理，通过采用现成的软件，对实际数据进行Hash运算并验证，加深对MD5、SHA-1算法原理的认识与理解。\n"
   ]
  },
  {
   "cell_type": "markdown",
   "metadata": {},
   "source": [
    "#### 实验四"
   ]
  },
  {
   "cell_type": "code",
   "execution_count": 1,
   "metadata": {},
   "outputs": [
    {
     "name": "stdout",
     "output_type": "stream",
     "text": [
      "原文：caojie03163124\n",
      "MD5数字摘要： 307b55b80a669058dad6d585bae01067\n",
      "SHA1/256数字摘要： e3b0c44298fc1c149afbf4c8996fb92427ae41e4649b934ca495991b7852b855\n"
     ]
    }
   ],
   "source": [
    "#MD5,SHA1   \n",
    "import hashlib\n",
    "#MD5\n",
    "md = hashlib.md5()#构造一个md5\n",
    "md.update(b'caojie03163124')\n",
    "print(\"原文：caojie03163124\")\n",
    "print(\"MD5数字摘要：\",md.hexdigest())\n",
    "'''\n",
    "中文加密涉及编码问题\n",
    "data = '你好'\n",
    "hashlib.md5(data.encode(encoding='UTF-8')).hexdigest()\n",
    "'''\n",
    "#SHA1 256位摘要\n",
    "sha1=hashlib.sha256()\n",
    "print(\"SHA1/256数字摘要：\",sha1.hexdigest())\n"
   ]
  },
  {
   "cell_type": "code",
   "execution_count": null,
   "metadata": {},
   "outputs": [],
   "source": []
  }
 ],
 "metadata": {
  "kernelspec": {
   "display_name": "Python 3",
   "language": "python",
   "name": "python3"
  },
  "language_info": {
   "codemirror_mode": {
    "name": "ipython",
    "version": 3
   },
   "file_extension": ".py",
   "mimetype": "text/x-python",
   "name": "python",
   "nbconvert_exporter": "python",
   "pygments_lexer": "ipython3",
   "version": "3.5.4"
  }
 },
 "nbformat": 4,
 "nbformat_minor": 2
}
